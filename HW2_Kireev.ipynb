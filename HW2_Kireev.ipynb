{
 "cells": [
  {
   "cell_type": "code",
   "execution_count": 48,
   "metadata": {},
   "outputs": [],
   "source": [
    "#importing libraries into jupyter notebook\n",
    "import pandas as pd \n",
    "import numpy as np \n",
    "import matplotlib.pyplot as plt\n",
    "import seaborn as sns \n",
    "import statsmodels.formula.api as smf \n",
    "from sklearn.model_selection import train_test_split \n",
    "from sklearn.linear_model import LinearRegression\n",
    "import math\n",
    "\n",
    "#specifying the path and file name\n",
    "file = './OJ_Data.xlsx'\n",
    "\n",
    "#reading the file into Python\n",
    "OJ_data = pd.read_excel(file)\n",
    "\n"
   ]
  },
  {
   "cell_type": "code",
   "execution_count": 49,
   "metadata": {},
   "outputs": [],
   "source": [
    "#log transformation sales\n",
    "OJ_data['log_sales1'] = np.log(OJ_data['sales1'])\n",
    "OJ_data['log_sales2'] = np.log(OJ_data['sales2'])\n",
    "OJ_data['log_sales3'] = np.log(OJ_data['sales3'])\n",
    "OJ_data['log_sales4'] = np.log(OJ_data['sales4'])\n",
    "OJ_data['log_sales5'] = np.log(OJ_data['sales5'])\n",
    "\n",
    "#log transformation price\n",
    "OJ_data['log_price1'] = np.log(OJ_data['price1'])\n",
    "OJ_data['log_price2'] = np.log(OJ_data['price2'])\n",
    "OJ_data['log_price3'] = np.log(OJ_data['price3'])\n",
    "OJ_data['log_price4'] = np.log(OJ_data['price4'])\n",
    "OJ_data['log_price5'] = np.log(OJ_data['price5'])\n"
   ]
  },
  {
   "cell_type": "code",
   "execution_count": 50,
   "metadata": {},
   "outputs": [
    {
     "name": "stdout",
     "output_type": "stream",
     "text": [
      "                            OLS Regression Results                            \n",
      "==============================================================================\n",
      "Dep. Variable:             log_sales5   R-squared:                       0.667\n",
      "Model:                            OLS   Adj. R-squared:                  0.646\n",
      "Method:                 Least Squares   F-statistic:                     30.94\n",
      "Date:                Sun, 04 Apr 2021   Prob (F-statistic):           4.05e-23\n",
      "Time:                        19:58:17   Log-Likelihood:                -118.15\n",
      "No. Observations:                 116   AIC:                             252.3\n",
      "Df Residuals:                     108   BIC:                             274.3\n",
      "Df Model:                           7                                         \n",
      "Covariance Type:            nonrobust                                         \n",
      "==============================================================================\n",
      "                 coef    std err          t      P>|t|      [0.025      0.975]\n",
      "------------------------------------------------------------------------------\n",
      "Intercept     -0.5951      2.166     -0.275      0.784      -4.888       3.698\n",
      "log_price1     0.0985      0.336      0.293      0.770      -0.567       0.764\n",
      "log_price2    -1.6637      0.611     -2.722      0.008      -2.875      -0.452\n",
      "log_price3     1.0508      0.365      2.876      0.005       0.327       1.775\n",
      "log_price4     1.1025      0.397      2.778      0.006       0.316       1.889\n",
      "log_price5    -3.2416      0.352     -9.219      0.000      -3.939      -2.545\n",
      "disp5          0.2818      0.144      1.958      0.053      -0.004       0.567\n",
      "feat5          0.6590      0.155      4.256      0.000       0.352       0.966\n",
      "==============================================================================\n",
      "Omnibus:                        4.625   Durbin-Watson:                   1.679\n",
      "Prob(Omnibus):                  0.099   Jarque-Bera (JB):                4.684\n",
      "Skew:                          -0.270   Prob(JB):                       0.0962\n",
      "Kurtosis:                       3.823   Cond. No.                         254.\n",
      "==============================================================================\n",
      "\n",
      "Warnings:\n",
      "[1] Standard Errors assume that the covariance matrix of the errors is correctly specified.\n"
     ]
    }
   ],
   "source": [
    "#step 1: build a model\n",
    "lm_best = smf.ols(formula = \"\"\"log_sales5 ~   log_price1 + log_price2\n",
    "                                            + log_price3 + log_price4\n",
    "                                            + log_price5 + disp5 \n",
    "                                            + feat5 \"\"\",\n",
    "                  data = OJ_data)\n",
    "#step 2: fit the model based on the data\n",
    "results = lm_best.fit()\n",
    "\n",
    "#step 3: analyze the summary output\n",
    "print(results.summary())"
   ]
  },
  {
   "cell_type": "code",
   "execution_count": 51,
   "metadata": {},
   "outputs": [
    {
     "name": "stdout",
     "output_type": "stream",
     "text": [
      " Intecept Coeficient   :  -0.5951496836620813\n",
      " Log Price 1 Coeficient:  0.09852611509335407\n",
      " Log Price 2 Coeficient:  -1.6636743878682179\n",
      " Log Price 3 Coeficient:  1.0508255510249171\n",
      " Log Price 4 Coeficient:  1.1025402455544617\n",
      " Log Price 5 Coeficient:  -3.241612360035744\n",
      " Display 5 Coeficient  :  0.28179399552533835\n",
      " Feature 5 Coeficient  :  0.6590307939084683\n"
     ]
    }
   ],
   "source": [
    "#storing the regression coef into a new variable\n",
    "coef_intercept  = results.params.Intercept \n",
    "coef_log_price1 = results.params.log_price1\n",
    "coef_log_price2 = results.params.log_price2\n",
    "coef_log_price3 = results.params.log_price3\n",
    "coef_log_price4 = results.params.log_price4\n",
    "coef_log_price5 = results.params.log_price5\n",
    "coef_disp5      = results.params.disp5\n",
    "coef_feat5      = results.params.feat5\n",
    "\n",
    "#print the values of the stored coeficients\n",
    "print(\" Intecept Coeficient   : \", coef_intercept)\n",
    "print(\" Log Price 1 Coeficient: \", coef_log_price1)\n",
    "print(\" Log Price 2 Coeficient: \", coef_log_price2)\n",
    "print(\" Log Price 3 Coeficient: \", coef_log_price3)\n",
    "print(\" Log Price 4 Coeficient: \", coef_log_price4)\n",
    "print(\" Log Price 5 Coeficient: \", coef_log_price5)\n",
    "print(\" Display 5 Coeficient  : \", coef_disp5)\n",
    "print(\" Feature 5 Coeficient  : \", coef_feat5)"
   ]
  },
  {
   "cell_type": "code",
   "execution_count": 52,
   "metadata": {},
   "outputs": [
    {
     "name": "stdout",
     "output_type": "stream",
     "text": [
      " Average Price 1:  0.04532140844741382\n",
      " Average Price 2:  0.05003320281637934\n",
      " Average Price 3:  0.035965532012931\n",
      " Average Price 4:  0.03544042484137931\n",
      " Average Price 5:  0.026779364224137917\n"
     ]
    }
   ],
   "source": [
    "#пetting average for price\n",
    "average_price1 = OJ_data[\"price1\"].mean()\n",
    "average_price2 = OJ_data[\"price2\"].mean()\n",
    "average_price3 = OJ_data[\"price3\"].mean()\n",
    "average_price4 = OJ_data[\"price4\"].mean()\n",
    "average_price5 = OJ_data[\"price5\"].mean()\n",
    "\n",
    "#зrinting average price\n",
    "print(\" Average Price 1: \", average_price1)\n",
    "print(\" Average Price 2: \", average_price2)\n",
    "print(\" Average Price 3: \", average_price3)\n",
    "print(\" Average Price 4: \",average_price4)\n",
    "print(\" Average Price 5: \",average_price5)"
   ]
  },
  {
   "cell_type": "code",
   "execution_count": 53,
   "metadata": {},
   "outputs": [
    {
     "name": "stdout",
     "output_type": "stream",
     "text": [
      " Average Log Price 1:  -3.0939757654717464\n",
      " Average Log Price 2:  -2.995068437614246\n",
      " Average Log Price 3:  -3.3251942432536383\n",
      " Average Log Price 4:  -3.339902165693538\n",
      " Average Log Price 5:  -3.620123679697792\n"
     ]
    }
   ],
   "source": [
    "#пetting average ln price\n",
    "average_log_price1 = np.log(average_price1)\n",
    "average_log_price2 = np.log(average_price2)\n",
    "average_log_price3 = np.log(average_price3)\n",
    "average_log_price4 = np.log(average_price4)\n",
    "average_log_price5 = np.log(average_price5)\n",
    "\n",
    "#printштп average ln price\n",
    "print(\" Average Log Price 1: \", average_log_price1)\n",
    "print(\" Average Log Price 2: \", average_log_price2)\n",
    "print(\" Average Log Price 3: \", average_log_price3)\n",
    "print(\" Average Log Price 4: \", average_log_price4)\n",
    "print(\" Average Log Price 5: \", average_log_price5)"
   ]
  },
  {
   "cell_type": "code",
   "execution_count": 54,
   "metadata": {},
   "outputs": [
    {
     "name": "stdout",
     "output_type": "stream",
     "text": [
      "LN_sales5:  8.641293591687223\n"
     ]
    }
   ],
   "source": [
    "#calculating the equation of ln(sales5)\n",
    "LN_sales5 = coef_intercept + coef_log_price1 * average_log_price1 + coef_log_price2 * average_log_price2 + coef_log_price3 * average_log_price3 + coef_log_price4 * average_log_price4 + coef_log_price5 * average_log_price5\n",
    "\n",
    "print(\"LN_sales5: \", LN_sales5)"
   ]
  },
  {
   "cell_type": "code",
   "execution_count": 55,
   "metadata": {},
   "outputs": [
    {
     "name": "stdout",
     "output_type": "stream",
     "text": [
      "sales_5:  5660.647657025278\n"
     ]
    }
   ],
   "source": [
    "#takeing the exponent to get sales5\n",
    "sales_5 = math.exp(LN_sales5)\n",
    "print(\"sales_5: \", sales_5)"
   ]
  },
  {
   "cell_type": "code",
   "execution_count": 56,
   "metadata": {},
   "outputs": [
    {
     "name": "stdout",
     "output_type": "stream",
     "text": [
      "sales_5oz:  362281.4500496178\n"
     ]
    }
   ],
   "source": [
    "#calculating sales5 for oz\n",
    "sales_5oz = sales_5 * 64\n",
    "print(\"sales_5oz: \", sales_5oz)"
   ]
  },
  {
   "cell_type": "code",
   "execution_count": 57,
   "metadata": {},
   "outputs": [
    {
     "name": "stdout",
     "output_type": "stream",
     "text": [
      "revenue:  9701.666902527542\n"
     ]
    }
   ],
   "source": [
    "#calculating the revenue\n",
    "revenue_sku5 = sales_5oz * average_price5\n",
    "print(\"revenue: \", revenue_sku5)"
   ]
  },
  {
   "cell_type": "code",
   "execution_count": 58,
   "metadata": {},
   "outputs": [
    {
     "name": "stdout",
     "output_type": "stream",
     "text": [
      "                            OLS Regression Results                            \n",
      "==============================================================================\n",
      "Dep. Variable:                 grmar5   R-squared:                       0.537\n",
      "Model:                            OLS   Adj. R-squared:                  0.533\n",
      "Method:                 Least Squares   F-statistic:                     132.4\n",
      "Date:                Sun, 04 Apr 2021   Prob (F-statistic):           8.42e-21\n",
      "Time:                        19:58:26   Log-Likelihood:                 107.27\n",
      "No. Observations:                 116   AIC:                            -210.5\n",
      "Df Residuals:                     114   BIC:                            -205.0\n",
      "Df Model:                           1                                         \n",
      "Covariance Type:            nonrobust                                         \n",
      "==============================================================================\n",
      "                 coef    std err          t      P>|t|      [0.025      0.975]\n",
      "------------------------------------------------------------------------------\n",
      "Intercept     -0.2007      0.044     -4.579      0.000      -0.288      -0.114\n",
      "price5        18.4315      1.602     11.506      0.000      15.258      21.605\n",
      "==============================================================================\n",
      "Omnibus:                        0.612   Durbin-Watson:                   0.695\n",
      "Prob(Omnibus):                  0.736   Jarque-Bera (JB):                0.528\n",
      "Skew:                          -0.164   Prob(JB):                        0.768\n",
      "Kurtosis:                       2.957   Cond. No.                         178.\n",
      "==============================================================================\n",
      "\n",
      "Warnings:\n",
      "[1] Standard Errors assume that the covariance matrix of the errors is correctly specified.\n"
     ]
    }
   ],
   "source": [
    "#step 1: build a model\n",
    "lm_gmr5 = smf.ols(formula =  \"grmar5 ~ price5\",\n",
    "                                data = OJ_data)\n",
    "\n",
    "#step 2: fit the model based on the data\n",
    "results_gmr5 = lm_gmr5.fit()\n",
    "\n",
    "#step 3: analyze the summary output\n",
    "print(results_gmr5.summary())"
   ]
  },
  {
   "cell_type": "code",
   "execution_count": 59,
   "metadata": {},
   "outputs": [
    {
     "name": "stdout",
     "output_type": "stream",
     "text": [
      " coef_gmr_intercept:  -0.20067635142037138\n",
      " coef_gmr_price5   :  18.431514737733696\n"
     ]
    }
   ],
   "source": [
    "#storing the regression coef into a new variable\n",
    "\n",
    "coef_gmr_intercept = results_gmr5.params.Intercept\n",
    "coef_gmr_price5 = results_gmr5.params.price5\n",
    "\n",
    "#print the values of the stored coeficients\n",
    "print(\" coef_gmr_intercept: \", coef_gmr_intercept)\n",
    "print(\" coef_gmr_price5   : \", coef_gmr_price5)"
   ]
  },
  {
   "cell_type": "code",
   "execution_count": 60,
   "metadata": {},
   "outputs": [
    {
     "name": "stdout",
     "output_type": "stream",
     "text": [
      "gmr_price5:  0.29290789494396513\n"
     ]
    }
   ],
   "source": [
    "gmr_price5 = coef_gmr_intercept + coef_gmr_price5 * average_price5\n",
    "\n",
    "print(\"gmr_price5: \", gmr_price5)"
   ]
  },
  {
   "cell_type": "code",
   "execution_count": 61,
   "metadata": {},
   "outputs": [
    {
     "name": "stdout",
     "output_type": "stream",
     "text": [
      "profit_sku5:  2841.694829866881\n"
     ]
    }
   ],
   "source": [
    "profit_sku5 = gmr_price5 * revenue_sku5\n",
    "print(\"profit_sku5: \", profit_sku5)"
   ]
  },
  {
   "cell_type": "code",
   "execution_count": 63,
   "metadata": {},
   "outputs": [
    {
     "data": {
      "text/plain": [
       "<AxesSubplot:xlabel='Price oz', ylabel='Profits'>"
      ]
     },
     "execution_count": 63,
     "metadata": {},
     "output_type": "execute_result"
    },
    {
     "data": {
      "image/png": "[encoded data removed]",
      "text/plain": [
       "<Figure size 432x288 with 1 Axes>"
      ]
     },
     "metadata": {
      "needs_background": "light"
     },
     "output_type": "display_data"
    }
   ],
   "source": [
    "#setting the Seed\n",
    "np.random.seed(42)\n",
    "\n",
    "#run 1000 simulations\n",
    "num_simulations = 1000\n",
    "\n",
    "price5_min = OJ_data.price5.min()\n",
    "price5_max = OJ_data.price5.max()\n",
    "\n",
    "Q_stats = []\n",
    "\n",
    "for Q in np.arange(price5_min, price5_max, 0.001):\n",
    "\n",
    "# Create an array to save results from each simulation\n",
    "    all_stats = []\n",
    "\n",
    "    for i in range (num_simulations):\n",
    "        coef_current= np.random.normal(coef_log_price5, results.bse[5])\n",
    "        \n",
    "        simulation_log_sales5 = coef_intercept + coef_log_price1 * average_log_price1 + coef_log_price2 * average_log_price2 + coef_log_price3 * average_log_price3 + coef_log_price4 * average_log_price4 + coef_current * np.log(Q) + 0 + 0\n",
    "        \n",
    "        simualtion_profits5 = math.exp(simulation_log_sales5) * gmr_price5 * average_grmar5 * 64\n",
    "        \n",
    "        all_stats.append([math.exp(simulation_log_sales5), simualtion_profits5])\n",
    "        \n",
    "    results_df = pd.DataFrame.from_records(all_stats, columns = ['simulation_log_sales5', 'simualtion_profits5'])\n",
    "    Q_stats.append([math.exp(Q), results_df['simualtion_profits5'].mean()])\n",
    "    \n",
    "Q_results_df = pd.DataFrame.from_records(Q_stats, columns = ['Price oz', 'Profits'])\n",
    "    \n",
    "Q_results_df.plot.scatter(x = \"Price oz\", y = \"Profits\")\n",
    "\n"
   ]
  },
  {
   "cell_type": "code",
   "execution_count": 64,
   "metadata": {},
   "outputs": [
    {
     "name": "stdout",
     "output_type": "stream",
     "text": [
      "   Price oz        Profits\n",
      "0  1.015589  477682.418257\n"
     ]
    }
   ],
   "source": [
    "#calculating optimal price\n",
    "print(Q_results_df[Q_results_df.Profits == Q_results_df.Profits.max()])"
   ]
  },
  {
   "cell_type": "markdown",
   "metadata": {},
   "source": [
    "To gain maximal profit the price per oz of juice should be 1.015589"
   ]
  }
 ],
 "metadata": {
  "kernelspec": {
   "display_name": "Python 3",
   "language": "python",
   "name": "python3"
  },
  "language_info": {
   "codemirror_mode": {
    "name": "ipython",
    "version": 3
   },
   "file_extension": ".py",
   "mimetype": "text/x-python",
   "name": "python",
   "nbconvert_exporter": "python",
   "pygments_lexer": "ipython3",
   "version": "3.8.3"
  },
  "toc": {
   "base_numbering": 1,
   "nav_menu": {},
   "number_sections": true,
   "sideBar": true,
   "skip_h1_title": false,
   "title_cell": "Table of Contents",
   "title_sidebar": "Contents",
   "toc_cell": false,
   "toc_position": {},
   "toc_section_display": true,
   "toc_window_display": false
  },
  "varInspector": {
   "cols": {
    "lenName": 16,
    "lenType": 16,
    "lenVar": 40
   },
   "kernels_config": {
    "python": {
     "delete_cmd_postfix": "",
     "delete_cmd_prefix": "del ",
     "library": "var_list.py",
     "varRefreshCmd": "print(var_dic_list())"
    },
    "r": {
     "delete_cmd_postfix": ") ",
     "delete_cmd_prefix": "rm(",
     "library": "var_list.r",
     "varRefreshCmd": "cat(var_dic_list()) "
    }
   },
   "types_to_exclude": [
    "module",
    "function",
    "builtin_function_or_method",
    "instance",
    "_Feature"
   ],
   "window_display": false
  }
 },
 "nbformat": 4,
 "nbformat_minor": 4
}
